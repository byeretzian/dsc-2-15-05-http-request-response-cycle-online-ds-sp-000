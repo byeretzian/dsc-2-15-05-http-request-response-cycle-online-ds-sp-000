{
 "cells": [
  {
   "cell_type": "markdown",
   "metadata": {},
   "source": [
    "# HTTP Request/Response Cycle - Code along"
   ]
  },
  {
   "cell_type": "markdown",
   "metadata": {},
   "source": [
    "##  Introduction\n",
    "When developing a Web application as we saw in previous lesson, the request/response cycle is a useful guide to see how all the components of the app fit together. The request/response cycle traces how a user's request flows through the app. Understanding the request/response cycle is helpful to figure out which files to edit when developing an app (and where to look when things aren't working). This lesson will show how this setup works using python. \n",
    "\n",
    "## Objectives\n",
    "\n",
    "You will be able to: \n",
    "\n",
    "* Understand and explain the HTTP Request/Response cycle\n",
    "* Make http requests in Python using the ‘requests’ library\n"
   ]
  },
  {
   "cell_type": "markdown",
   "metadata": {},
   "source": [
    "## The `requests` Library in Python"
   ]
  },
  {
   "cell_type": "markdown",
   "metadata": {},
   "source": [
    "Dealing with HTTP requests could be a challenging task  any programming language. Python with two built-in modules, `urllib` and `urllib2` to handle these requests but these could be very confusing  and the documentation is not clear. This requires the programmer to write a lot of code to make even a simple HTTP request.\n",
    "\n",
    "To make these things simpler, one easy-to-use third-party library, known as` Requests`, is available and most developers prefer to use it instead or urllib/urllib2. It is an Apache2 licensed HTTP library powered by urllib3 and httplib. Requests is add-on library that allows you to send HTTP requests using Python. With this library, you can access content like web page headers, form data, files, and parameters via simple Python commands. It also allows you to access the response data in a simple way.\n",
    "\n",
    "![](logo.png)\n",
    "\n",
    "Below is how you would install and import the requests library before making any requests. \n",
    "```python\n",
    "# Uncomment and install requests if you dont have it already\n",
    "# !pip install requests\n",
    "\n",
    "# Import requests to working environment\n",
    "import requests\n",
    "```"
   ]
  },
  {
   "cell_type": "code",
   "execution_count": 1,
   "metadata": {},
   "outputs": [],
   "source": [
    "# Code here \n",
    "import requests"
   ]
  },
  {
   "cell_type": "markdown",
   "metadata": {},
   "source": [
    "## The `.get()` Method\n",
    "\n",
    "Now we have requests library ready in our working environment, we can start making some requests using the `.get()` method as shown below:\n",
    "```python\n",
    "### Making a request\n",
    "resp = requests.get('https://www.google.com')\n",
    "```"
   ]
  },
  {
   "cell_type": "code",
   "execution_count": 2,
   "metadata": {},
   "outputs": [],
   "source": [
    "# Code here \n",
    "resp = requests.get('https://www.google.com')"
   ]
  },
  {
   "cell_type": "markdown",
   "metadata": {},
   "source": [
    "GET is by far the most used HTTP method. We can use GET request to retrieve data from any destination. \n",
    "\n",
    "## Status Codes\n",
    "The request we make may not be always successful. The best way is to check the status code which gets returned with the response. Here is how you would do this. \n",
    "```python\n",
    "# Check the returned status code\n",
    "resp.status_code == requests.codes.ok\n",
    "```"
   ]
  },
  {
   "cell_type": "code",
   "execution_count": 3,
   "metadata": {},
   "outputs": [
    {
     "data": {
      "text/plain": [
       "True"
      ]
     },
     "execution_count": 3,
     "metadata": {},
     "output_type": "execute_result"
    }
   ],
   "source": [
    "# Code here \n",
    "resp.status_code == requests.codes.ok"
   ]
  },
  {
   "cell_type": "markdown",
   "metadata": {},
   "source": [
    "So this is a good check to see if our request was successful. Depending on the status of the web server, the access rights of the clients and availibility of requested information. A web server may return a number of status codes within the response. Wikipedia has an exhaustive details on all these codes. [Check them out here](https://en.wikipedia.org/wiki/List_of_HTTP_status_codes)\n",
    "\n",
    "## Response Contents\n",
    "Once we know that our request was successful and we have a valid response, we can check the returned information using `.text` property of the response object. \n",
    "```python\n",
    "print (resp.text)\n",
    "```"
   ]
  },
  {
   "cell_type": "code",
   "execution_count": 4,
   "metadata": {
    "scrolled": true
   },
   "outputs": [
    {
     "name": "stdout",
     "output_type": "stream",
     "text": [
      "<!doctype html><html itemscope=\"\" itemtype=\"http://schema.org/WebPage\" lang=\"en\"><head><meta content=\"Search the world's information, including webpages, images, videos and more. Google has many special features to help you find exactly what you're looking for.\" name=\"description\"><meta content=\"noodp\" name=\"robots\"><meta content=\"text/html; charset=UTF-8\" http-equiv=\"Content-Type\"><meta content=\"/logos/doodles/2018/united-states-elections-2018-5184312390451200.5-l.png\" itemprop=\"image\"><meta content=\"U.S. Elections 2018: Find out where to vote!\" property=\"twitter:title\"><meta content=\"Your voice matters. Find your polling place at g.co/elections/vote &amp; go vote! #ElectionDay #GoogleDoodle\" property=\"twitter:description\"><meta content=\"Your voice matters. Find your polling place at g.co/elections/vote &amp; go vote! #ElectionDay #GoogleDoodle\" property=\"og:description\"><meta content=\"summary_large_image\" property=\"twitter:card\"><meta content=\"@GoogleDoodles\" property=\"twitter:site\"><meta content=\"https://www.google.com/logos/doodles/2018/united-states-elections-2018-5184312390451200.4-2x.png\" property=\"twitter:image\"><meta content=\"https://www.google.com/logos/doodles/2018/united-states-elections-2018-5184312390451200.4-2x.png\" property=\"og:image\"><meta content=\"1400\" property=\"og:image:width\"><meta content=\"397\" property=\"og:image:height\"><title>Google</title><script nonce=\"HJnbqsO/TL4/3oyPN+VbEg==\">(function(){window.google={kEI:'mPXhW5P-Mb690PEP7LKu0AU',kEXPI:'0,1352614,1133,57,1957,584,433,281,344,781,698,527,46,684,142,184,293,131,24,205,5,514,301,30,524,27,144,130,197,170,139,36,254,2336699,201,32,329294,1294,12383,4855,32692,8162,7085,867,316,10445,1402,6381,3335,2,2,4604,2195,366,748,469,2102,2314,3191,224,1017,1195,266,3741,1366,575,835,284,2,1306,606,1825,59,2,1,3,1297,1712,2612,2095,658,638,6,302,1267,223,551,2115,137,1405,593,2744,525,22,437,162,5,2,2,1963,528,3,931,1028,105,465,3736,69,1050,334,11,119,1344,386,8,1003,81,7,1,2,25,463,620,29,983,6,273,133,446,12,62,569,1216,769,258,278,1030,2217,36,349,26,1084,243,10,304,794,82,412,2,556,506,1021,787,319,272,108,1032,202,231,12,926,51,38,337,49,533,439,135,145,155,499,175,110,433,35,348,632,281,68,483,1,47,612,21,447,157,387,7,301,49,391,416,661,41,283,43,57,30,38,34,4,344,509,1,42,205,294,17,152,249,250,324,204,41,178,88,2,366,120,2,143,203,14,31,6,493,3,131,35,80,1266,148,121,31,2,1,2,49,417,423,200,106,82,497,102,576,18,26,5982797,2554,134,5997557,20,2800075,4,1572,549,332,445,1,2,80,1,900,583,9,304,1,8,1,2,468,1664,1,1,1,1,1,414,1,445,303,141,179,318,6,13,34,30,2,2,11,1,4,39,4,4,22307850',authuser:0,kscs:'c9c918f0_mPXhW5P-Mb690PEP7LKu0AU',kGL:'US'};google.kHL='en';})();google.time=function(){return(new Date).getTime()};(function(){google.lc=[];google.li=0;google.getEI=function(a){for(var b;a&&(!a.getAttribute||!(b=a.getAttribute(\"eid\")));)a=a.parentNode;return b||google.kEI};google.getLEI=function(a){for(var b=null;a&&(!a.getAttribute||!(b=a.getAttribute(\"leid\")));)a=a.parentNode;return b};google.https=function(){return\"https:\"==window.location.protocol};google.ml=function(){return null};google.log=function(a,b,e,c,g){if(a=google.logUrl(a,b,e,c,g)){b=new Image;var d=google.lc,f=google.li;d[f]=b;b.onerror=b.onload=b.onabort=function(){delete d[f]};google.vel&&google.vel.lu&&google.vel.lu(a);b.src=a;google.li=f+1}};google.logUrl=function(a,b,e,c,g){var d=\"\",f=google.ls||\"\";e||-1!=b.search(\"&ei=\")||(d=\"&ei=\"+google.getEI(c),-1==b.search(\"&lei=\")&&(c=google.getLEI(c))&&(d+=\"&lei=\"+c));c=\"\";!e&&google.cshid&&-1==b.search(\"&cshid=\")&&\"slh\"!=a&&(c=\"&cshid=\"+google.cshid);a=e||\"/\"+(g||\"gen_204\")+\"?atyp=i&ct=\"+a+\"&cad=\"+b+d+f+\"&zx=\"+google.time()+c;/^http:/i.test(a)&&google.https()&&(google.ml(Error(\"a\"),!1,{src:a,glmm:1}),a=\"\");return a};}).call(this);(function(){google.y={};google.x=function(a,b){if(a)var c=a.id;else{do c=Math.random();while(google.y[c])}google.y[c]=[a,b];return!1};google.lm=[];google.plm=function(a){google.lm.push.apply(google.lm,a)};google.lq=[];google.load=function(a,b,c){google.lq.push([[a],b,c])};google.loadAll=function(a,b){google.lq.push([a,b])};}).call(this);google.f={};</script><script nonce=\"HJnbqsO/TL4/3oyPN+VbEg==\">var a=window.location,b=a.href.indexOf(\"#\");if(0<=b){var c=a.href.substring(b+1);/(^|&)q=/.test(c)&&-1==c.indexOf(\"#\")&&a.replace(\"/search?\"+c.replace(/(^|&)fp=[^&]*/g,\"\")+\"&cad=h\")};</script><style>#gbar,#guser{font-size:13px;padding-top:1px !important;}#gbar{height:22px}#guser{padding-bottom:7px !important;text-align:right}.gbh,.gbd{border-top:1px solid #c9d7f1;font-size:1px}.gbh{height:0;position:absolute;top:24px;width:100%}@media all{.gb1{height:22px;margin-right:.5em;vertical-align:top}#gbar{float:left}}a.gb1,a.gb4{text-decoration:underline !important}a.gb1,a.gb4{color:#00c !important}.gbi .gb4{color:#dd8e27 !important}.gbf .gb4{color:#900 !important}\n",
      "</style><style>body,td,a,p,.h{font-family:arial,sans-serif}body{margin:0;overflow-y:scroll}#gog{padding:3px 8px 0}td{line-height:.8em}.gac_m td{line-height:17px}form{margin-bottom:20px}.h{color:#36c}.q{color:#00c}.ts td{padding:0}.ts{border-collapse:collapse}em{font-weight:bold;font-style:normal}.lst{height:25px;width:496px}.gsfi,.lst{font:18px arial,sans-serif}.gsfs{font:17px arial,sans-serif}.ds{display:inline-box;display:inline-block;margin:3px 0 4px;margin-left:4px}input{font-family:inherit}a.gb1,a.gb2,a.gb3,a.gb4{color:#11c !important}body{background:#fff;color:black}a{color:#11c;text-decoration:none}a:hover,a:active{text-decoration:underline}.fl a{color:#36c}a:visited{color:#551a8b}a.gb1,a.gb4{text-decoration:underline}a.gb3:hover{text-decoration:none}#ghead a.gb2:hover{color:#fff !important}.sblc{padding-top:5px}.sblc a{display:block;margin:2px 0;margin-left:13px;font-size:11px}.lsbb{background:#eee;border:solid 1px;border-color:#ccc #999 #999 #ccc;height:30px}.lsbb{display:block}.ftl,#fll a{display:inline-block;margin:0 12px}.lsb{background:url(/images/nav_logo229.png) 0 -261px repeat-x;border:none;color:#000;cursor:pointer;height:30px;margin:0;outline:0;font:15px arial,sans-serif;vertical-align:top}.lsb:active{background:#ccc}.lst:focus{outline:none}</style><script nonce=\"HJnbqsO/TL4/3oyPN+VbEg==\"></script></head><body bgcolor=\"#fff\"><script nonce=\"HJnbqsO/TL4/3oyPN+VbEg==\">(function(){var src='/images/nav_logo229.png';var iesg=false;document.body.onload = function(){window.n && window.n();if (document.images){new Image().src=src;}\n",
      "if (!iesg){document.f&&document.f.q.focus();document.gbqf&&document.gbqf.q.focus();}\n",
      "}\n",
      "})();</script><div id=\"mngb\"> <div id=gbar><nobr><b class=gb1>Search</b> <a class=gb1 href=\"https://www.google.com/imghp?hl=en&tab=wi\">Images</a> <a class=gb1 href=\"https://maps.google.com/maps?hl=en&tab=wl\">Maps</a> <a class=gb1 href=\"https://play.google.com/?hl=en&tab=w8\">Play</a> <a class=gb1 href=\"https://www.youtube.com/?gl=US&tab=w1\">YouTube</a> <a class=gb1 href=\"https://news.google.com/nwshp?hl=en&tab=wn\">News</a> <a class=gb1 href=\"https://mail.google.com/mail/?tab=wm\">Gmail</a> <a class=gb1 href=\"https://drive.google.com/?tab=wo\">Drive</a> <a class=gb1 style=\"text-decoration:none\" href=\"https://www.google.com/intl/en/options/\"><u>More</u> &raquo;</a></nobr></div><div id=guser width=100%><nobr><span id=gbn class=gbi></span><span id=gbf class=gbf></span><span id=gbe></span><a href=\"http://www.google.com/history/optout?hl=en\" class=gb4>Web History</a> | <a  href=\"/preferences?hl=en\" class=gb4>Settings</a> | <a target=_top id=gb_70 href=\"https://accounts.google.com/ServiceLogin?hl=en&passive=true&continue=https://www.google.com/\" class=gb4>Sign in</a></nobr></div><div class=gbh style=left:0></div><div class=gbh style=right:0></div> </div><center><br clear=\"all\" id=\"lgpd\"><div id=\"lga\"><a href=\"/search?site=&amp;ie=UTF-8&amp;q=Where+do+I+vote+%23ElectionDay&amp;oi=ddle&amp;ct=united-states-elections-2018-5184312390451200&amp;hl=en&amp;sa=X&amp;ved=0ahUKEwiTqozuycDeAhW-HjQIHWyZC1oQPQgD\"><img alt=\"U.S. Elections 2018: Find out where to vote!\" border=\"0\" height=\"128\" src=\"/logos/doodles/2018/united-states-elections-2018-5184312390451200.5-l.png\" title=\"U.S. Elections 2018: Find out where to vote!\" width=\"450\" id=\"hplogo\" onload=\"window.lol&&lol()\"><br></a><br></div><form action=\"/search\" name=\"f\"><table cellpadding=\"0\" cellspacing=\"0\"><tr valign=\"top\"><td width=\"25%\">&nbsp;</td><td align=\"center\" nowrap=\"\"><input name=\"ie\" value=\"ISO-8859-1\" type=\"hidden\"><input value=\"en\" name=\"hl\" type=\"hidden\"><input name=\"source\" type=\"hidden\" value=\"hp\"><input name=\"biw\" type=\"hidden\"><input name=\"bih\" type=\"hidden\"><div class=\"ds\" style=\"height:32px;margin:4px 0\"><input style=\"color:#000;margin:0;padding:5px 8px 0 6px;vertical-align:top\" autocomplete=\"off\" class=\"lst\" value=\"\" title=\"Google Search\" maxlength=\"2048\" name=\"q\" size=\"57\"></div><br style=\"line-height:0\"><span class=\"ds\"><span class=\"lsbb\"><input class=\"lsb\" value=\"Google Search\" name=\"btnG\" type=\"submit\"></span></span><span class=\"ds\"><span class=\"lsbb\"><input class=\"lsb\" value=\"I'm Feeling Lucky\" name=\"btnI\" onclick=\"if(this.form.q.value)this.checked=1; else top.location='/doodles/'\" type=\"submit\"></span></span></td><td class=\"fl sblc\" align=\"left\" nowrap=\"\" width=\"25%\"><a href=\"/advanced_search?hl=en&amp;authuser=0\">Advanced search</a><a href=\"/language_tools?hl=en&amp;authuser=0\">Language tools</a></td></tr></table><input id=\"gbv\" name=\"gbv\" type=\"hidden\" value=\"1\"><script nonce=\"HJnbqsO/TL4/3oyPN+VbEg==\">(function(){var a,b=\"1\";if(document&&document.getElementById)if(\"undefined\"!=typeof XMLHttpRequest)b=\"2\";else if(\"undefined\"!=typeof ActiveXObject){var c,d,e=[\"MSXML2.XMLHTTP.6.0\",\"MSXML2.XMLHTTP.3.0\",\"MSXML2.XMLHTTP\",\"Microsoft.XMLHTTP\"];for(c=0;d=e[c++];)try{new ActiveXObject(d),b=\"2\"}catch(h){}}a=b;if(\"2\"==a&&-1==location.search.indexOf(\"&gbv=2\")){var f=google.gbvu,g=document.getElementById(\"gbv\");g&&(g.value=a);f&&window.setTimeout(function(){location.href=f},0)};}).call(this);</script></form><div id=\"gac_scont\"></div><div style=\"font-size:83%;min-height:3.5em\"><br><div id=\"prm\"><style>.szppmdbYutt__middle-slot-promo{font-size:small;margin-bottom:32px}.szppmdbYutt__middle-slot-promo a.ZIeIlb{display:inline-block;text-decoration:none}.szppmdbYutt__middle-slot-promo img{border:none;margin-right:5px;vertical-align:middle}</style><div class=\"szppmdbYutt__middle-slot-promo\" data-ved=\"0ahUKEwiTqozuycDeAhW-HjQIHWyZC1oQnIcBCAQ\"><span>It&#8217;s Election Day. </span><a class=\"NKcBbd\" href=\"https://www.google.com/url?q=https://www.google.com/search%3Fq%3DWhere%2Bdo%2BI%2Bvote%2B%2523ElectionDay&amp;source=hpp&amp;id=19009253&amp;ct=3&amp;usg=AFQjCNEP4wpGSXUIr_BwAUHS3W1wEXJSHA&amp;sa=X&amp;ved=0ahUKEwiTqozuycDeAhW-HjQIHWyZC1oQ8IcBCAU\" rel=\"nofollow\">Find where to vote</a></div></div></div><span id=\"footer\"><div style=\"font-size:10pt\"><div style=\"margin:19px auto;text-align:center\" id=\"fll\"><a href=\"/intl/en/ads/\">Advertising Programs</a><a href=\"/services/\">Business Solutions</a><a href=\"https://plus.google.com/116899029375914044550\" rel=\"publisher\">+Google</a><a href=\"/intl/en/about.html\">About Google</a></div></div><p style=\"color:#767676;font-size:8pt\">&copy; 2018 - <a href=\"/intl/en/policies/privacy/\">Privacy</a> - <a href=\"/intl/en/policies/terms/\">Terms</a></p></span></center><script nonce=\"HJnbqsO/TL4/3oyPN+VbEg==\">(function(){window.google.cdo={height:0,width:0};(function(){var a=window.innerWidth,b=window.innerHeight;if(!a||!b){var c=window.document,d=\"CSS1Compat\"==c.compatMode?c.documentElement:c.body;a=d.clientWidth;b=d.clientHeight}a&&b&&(a!=google.cdo.width||b!=google.cdo.height)&&google.log(\"\",\"\",\"/client_204?&atyp=i&biw=\"+a+\"&bih=\"+b+\"&ei=\"+google.kEI);}).call(this);})();</script><div id=\"xjsd\"></div><div id=\"xjsi\"><script nonce=\"HJnbqsO/TL4/3oyPN+VbEg==\">(function(){function c(b){window.setTimeout(function(){var a=document.createElement(\"script\");a.src=b;google.timers&&google.timers.load.t&&google.tick&&google.tick(\"load\",{gen204:\"xjsls\",clearcut:31});document.getElementById(\"xjsd\").appendChild(a)},0)}google.dljp=function(b,a){google.xjsu=b;c(a)};google.dlj=c;}).call(this);if(!google.xjs){window._=window._||{};window._DumpException=window._._DumpException=function(e){throw e};window._F_installCss=window._._F_installCss=function(c){};google.dljp('/xjs/_/js/k\\x3dxjs.hp.en_US.IjIE4ynS3Y0.O/m\\x3dsb_he,d/am\\x3dYsBs/rt\\x3dj/d\\x3d1/rs\\x3dACT90oGTWdZOWvdSwD1LXDPIdx-C0Z2fog','/xjs/_/js/k\\x3dxjs.hp.en_US.IjIE4ynS3Y0.O/m\\x3dsb_he,d/am\\x3dYsBs/rt\\x3dj/d\\x3d1/rs\\x3dACT90oGTWdZOWvdSwD1LXDPIdx-C0Z2fog');google.xjs=1;}google.pmc={\"sb_he\":{\"agen\":true,\"cgen\":true,\"client\":\"heirloom-hp\",\"dh\":true,\"dhqt\":true,\"ds\":\"\",\"ffql\":\"en\",\"fl\":true,\"host\":\"google.com\",\"isbh\":28,\"jsonp\":true,\"msgs\":{\"cibl\":\"Clear Search\",\"dym\":\"Did you mean:\",\"lcky\":\"I\\u0026#39;m Feeling Lucky\",\"lml\":\"Learn more\",\"oskt\":\"Input tools\",\"psrc\":\"This search was removed from your \\u003Ca href=\\\"/history\\\"\\u003EWeb History\\u003C/a\\u003E\",\"psrl\":\"Remove\",\"sbit\":\"Search by image\",\"srch\":\"Google Search\"},\"ovr\":{},\"pq\":\"\",\"refpd\":true,\"rfs\":[],\"sbpl\":24,\"sbpr\":24,\"scd\":10,\"sce\":5,\"stok\":\"pfazsTd60oh9UKf_WEwG8buF0_0\",\"uhde\":false},\"d\":{},\"ZI/YVQ\":{},\"Qnk92g\":{},\"U5B21g\":{},\"DPBNMg\":{},\"YFCs/g\":{}};google.x(null,function(){});(function(){var r=[];google.plm(r);})();(function(){var m=[]\n",
      ";m.length && google.jsc && google.jsc.m(m);})();</script></div></body></html>\n"
     ]
    }
   ],
   "source": [
    "# Code here \n",
    "print (resp.text)"
   ]
  },
  {
   "cell_type": "markdown",
   "metadata": {},
   "source": [
    "So this returns a lot of information which by default is not really human understandable due to data encoding, HTML tags and other styling information that only a web browser can truly translate. In later lessons we shall look at how we can use ** Regular Exprerssions**  to clean this information and extract the required bits and pieces for analysis. \n",
    "\n",
    "## Response Headers\n",
    "The response of an HTTP request can contain many headers that holds different bits of information. We can use `.header` property of the response object to access the header information as shown below:\n",
    "\n",
    "```python\n",
    "# Read the header of the response - convert to dictionary for displaying k:v pairs neatly\n",
    "dict(resp.headers)\n",
    "```"
   ]
  },
  {
   "cell_type": "code",
   "execution_count": 5,
   "metadata": {},
   "outputs": [
    {
     "data": {
      "text/plain": [
       "{'Date': 'Tue, 06 Nov 2018 20:12:08 GMT',\n",
       " 'Expires': '-1',\n",
       " 'Cache-Control': 'private, max-age=0',\n",
       " 'Content-Type': 'text/html; charset=ISO-8859-1',\n",
       " 'P3P': 'CP=\"This is not a P3P policy! See g.co/p3phelp for more info.\"',\n",
       " 'Content-Encoding': 'gzip',\n",
       " 'Server': 'gws',\n",
       " 'X-XSS-Protection': '1; mode=block',\n",
       " 'X-Frame-Options': 'SAMEORIGIN',\n",
       " 'Set-Cookie': '1P_JAR=2018-11-06-20; expires=Thu, 06-Dec-2018 20:12:08 GMT; path=/; domain=.google.com, NID=144=RHXCHb9nTaszwVtDIMVM4q1a3fKPGnYUh9klq0GK5UZKNthARLwIcfhBQ68DjfozS_JfiAAJQs-sTy3eltNtOZUrEI91nyjvMhFStKTj4DCbDhe-eZK-q-rplQ8GTpmdH7puZB4M0F28fEOsUDzvYGAanptNQ_h8NOFM_lTxE2s; expires=Wed, 08-May-2019 20:12:08 GMT; path=/; domain=.google.com; HttpOnly',\n",
       " 'Alt-Svc': 'quic=\":443\"; ma=2592000; v=\"44,43,39,35\"',\n",
       " 'Transfer-Encoding': 'chunked'}"
      ]
     },
     "execution_count": 5,
     "metadata": {},
     "output_type": "execute_result"
    }
   ],
   "source": [
    "# Code here \n",
    "dict(resp.headers)"
   ]
  },
  {
   "cell_type": "markdown",
   "metadata": {},
   "source": [
    "The content of the headers is our required element. You can see the key-value pairs holding various pieces of  information about the resource and request. Let's try to parse some of these values using the requests library:\n",
    "\n",
    "```python\n",
    "print(resp.headers['Content-Length'])  # length of the response\n",
    "print(resp.headers['Date'])  # Date the response was sent\n",
    "print(resp.headers['server'])   # Server type (google web service - GWS)\n",
    "```"
   ]
  },
  {
   "cell_type": "code",
   "execution_count": 8,
   "metadata": {},
   "outputs": [
    {
     "ename": "KeyError",
     "evalue": "'content-length'",
     "output_type": "error",
     "traceback": [
      "\u001b[0;31m\u001b[0m",
      "\u001b[0;31mKeyError\u001b[0mTraceback (most recent call last)",
      "\u001b[0;32m<ipython-input-8-5a73c5bb244a>\u001b[0m in \u001b[0;36m<module>\u001b[0;34m()\u001b[0m\n\u001b[1;32m      1\u001b[0m \u001b[0;31m# Code here\u001b[0m\u001b[0;34m\u001b[0m\u001b[0;34m\u001b[0m\u001b[0m\n\u001b[0;32m----> 2\u001b[0;31m \u001b[0mprint\u001b[0m\u001b[0;34m(\u001b[0m\u001b[0mresp\u001b[0m\u001b[0;34m.\u001b[0m\u001b[0mheaders\u001b[0m\u001b[0;34m[\u001b[0m\u001b[0;34m'content-length'\u001b[0m\u001b[0;34m]\u001b[0m\u001b[0;34m)\u001b[0m  \u001b[0;31m# length of the response\u001b[0m\u001b[0;34m\u001b[0m\u001b[0m\n\u001b[0m\u001b[1;32m      3\u001b[0m \u001b[0mprint\u001b[0m\u001b[0;34m(\u001b[0m\u001b[0mresp\u001b[0m\u001b[0;34m.\u001b[0m\u001b[0mheaders\u001b[0m\u001b[0;34m[\u001b[0m\u001b[0;34m'Date'\u001b[0m\u001b[0;34m]\u001b[0m\u001b[0;34m)\u001b[0m  \u001b[0;31m# Date the response was sent\u001b[0m\u001b[0;34m\u001b[0m\u001b[0m\n\u001b[1;32m      4\u001b[0m \u001b[0mprint\u001b[0m\u001b[0;34m(\u001b[0m\u001b[0mresp\u001b[0m\u001b[0;34m.\u001b[0m\u001b[0mheaders\u001b[0m\u001b[0;34m[\u001b[0m\u001b[0;34m'server'\u001b[0m\u001b[0;34m]\u001b[0m\u001b[0;34m)\u001b[0m   \u001b[0;31m# Server type (google web service - GWS)\u001b[0m\u001b[0;34m\u001b[0m\u001b[0m\n",
      "\u001b[0;32m/opt/conda/envs/learn-env/lib/python3.6/site-packages/requests/structures.py\u001b[0m in \u001b[0;36m__getitem__\u001b[0;34m(self, key)\u001b[0m\n\u001b[1;32m     50\u001b[0m \u001b[0;34m\u001b[0m\u001b[0m\n\u001b[1;32m     51\u001b[0m     \u001b[0;32mdef\u001b[0m \u001b[0m__getitem__\u001b[0m\u001b[0;34m(\u001b[0m\u001b[0mself\u001b[0m\u001b[0;34m,\u001b[0m \u001b[0mkey\u001b[0m\u001b[0;34m)\u001b[0m\u001b[0;34m:\u001b[0m\u001b[0;34m\u001b[0m\u001b[0m\n\u001b[0;32m---> 52\u001b[0;31m         \u001b[0;32mreturn\u001b[0m \u001b[0mself\u001b[0m\u001b[0;34m.\u001b[0m\u001b[0m_store\u001b[0m\u001b[0;34m[\u001b[0m\u001b[0mkey\u001b[0m\u001b[0;34m.\u001b[0m\u001b[0mlower\u001b[0m\u001b[0;34m(\u001b[0m\u001b[0;34m)\u001b[0m\u001b[0;34m]\u001b[0m\u001b[0;34m[\u001b[0m\u001b[0;36m1\u001b[0m\u001b[0;34m]\u001b[0m\u001b[0;34m\u001b[0m\u001b[0m\n\u001b[0m\u001b[1;32m     53\u001b[0m \u001b[0;34m\u001b[0m\u001b[0m\n\u001b[1;32m     54\u001b[0m     \u001b[0;32mdef\u001b[0m \u001b[0m__delitem__\u001b[0m\u001b[0;34m(\u001b[0m\u001b[0mself\u001b[0m\u001b[0;34m,\u001b[0m \u001b[0mkey\u001b[0m\u001b[0;34m)\u001b[0m\u001b[0;34m:\u001b[0m\u001b[0;34m\u001b[0m\u001b[0m\n",
      "\u001b[0;31mKeyError\u001b[0m: 'content-length'"
     ]
    }
   ],
   "source": [
    "# Code here \n",
    "print(resp.headers['content-length'])  # length of the response\n",
    "print(resp.headers['Date'])  # Date the response was sent\n",
    "print(resp.headers['server'])   # Server type (google web service - GWS)"
   ]
  },
  {
   "cell_type": "markdown",
   "metadata": {},
   "source": [
    "## Try `httpbin`\n",
    "`httpbin.org` is a popular website to test different HTTP operation and practice with request-response cycles. Let's use httpbin/get to analyse the response to a GET request. First of all, we shall find out the response header and inspect how it looks. \n",
    "\n",
    "```python\n",
    "r = requests.get('http://httpbin.org/get')\n",
    "\n",
    "response = r.json()  \n",
    "print(r.json())  \n",
    "print(response['args'])  \n",
    "print(response['headers'])  \n",
    "print(response['headers']['Accept'])  \n",
    "print(response['headers']['Accept-Encoding'])  \n",
    "print(response['headers']['Connection'])  \n",
    "print(response['headers']['Host'])  \n",
    "print(response['headers']['User-Agent'])  \n",
    "print(response['origin'])  \n",
    "print(response['url'])  \n",
    "```"
   ]
  },
  {
   "cell_type": "code",
   "execution_count": 9,
   "metadata": {},
   "outputs": [
    {
     "name": "stdout",
     "output_type": "stream",
     "text": [
      "{'args': {}, 'headers': {'Accept': '*/*', 'Accept-Encoding': 'gzip, deflate', 'Connection': 'close', 'Host': 'httpbin.org', 'User-Agent': 'python-requests/2.19.1'}, 'origin': '165.227.31.208', 'url': 'http://httpbin.org/get'}\n",
      "{}\n",
      "{'Accept': '*/*', 'Accept-Encoding': 'gzip, deflate', 'Connection': 'close', 'Host': 'httpbin.org', 'User-Agent': 'python-requests/2.19.1'}\n",
      "*/*\n",
      "gzip, deflate\n",
      "close\n",
      "httpbin.org\n",
      "python-requests/2.19.1\n",
      "165.227.31.208\n",
      "http://httpbin.org/get\n"
     ]
    }
   ],
   "source": [
    "# Code here \n",
    "r = requests.get('http://httpbin.org/get')\n",
    "\n",
    "response = r.json()  \n",
    "print(r.json())  \n",
    "print(response['args'])  \n",
    "print(response['headers'])  \n",
    "print(response['headers']['Accept'])  \n",
    "print(response['headers']['Accept-Encoding'])  \n",
    "print(response['headers']['Connection'])  \n",
    "print(response['headers']['Host'])  \n",
    "print(response['headers']['User-Agent'])  \n",
    "print(response['origin'])  \n",
    "print(response['url'])"
   ]
  },
  {
   "cell_type": "markdown",
   "metadata": {},
   "source": [
    "Let's use `requests` object structure to parse the values of headers as we did above. \n",
    "\n",
    "```python\n",
    "print(r.headers['Access-Control-Allow-Credentials'])  \n",
    "print(r.headers['Access-Control-Allow-Origin'])  \n",
    "print(r.headers['CONNECTION'])  \n",
    "print(r.headers['content-length'])  \n",
    "print(r.headers['Content-Type'])  \n",
    "print(r.headers['Date'])  \n",
    "print(r.headers['server'])  \n",
    "print(r.headers['via'])  \n",
    "```"
   ]
  },
  {
   "cell_type": "code",
   "execution_count": 10,
   "metadata": {},
   "outputs": [
    {
     "name": "stdout",
     "output_type": "stream",
     "text": [
      "true\n",
      "*\n",
      "keep-alive\n",
      "267\n",
      "application/json\n",
      "Tue, 06 Nov 2018 20:14:34 GMT\n",
      "gunicorn/19.9.0\n",
      "1.1 vegur\n"
     ]
    }
   ],
   "source": [
    "# Code here \n",
    "print(r.headers['Access-Control-Allow-Credentials'])  \n",
    "print(r.headers['Access-Control-Allow-Origin'])  \n",
    "print(r.headers['CONNECTION'])  \n",
    "print(r.headers['content-length'])  \n",
    "print(r.headers['Content-Type'])  \n",
    "print(r.headers['Date'])  \n",
    "print(r.headers['server'])  \n",
    "print(r.headers['via'])"
   ]
  },
  {
   "cell_type": "markdown",
   "metadata": {},
   "source": [
    "## Passing Parameters in GET\n",
    "In some cases, you'll need to pass parameters along with your GET requests. These extra parameters usually take the the form of query strings added to the requested URL. To do this, we need to pass these values in the `params` parameter. Let's try to acces information from `httpbin` with some user information. \n",
    "\n",
    "Note: The user information is not getting authenticated at `httpbin` so any name/password will work fine. This is merely for practice. \n",
    "\n",
    "```python\n",
    "credentials = {'user_name': 'trump', 'password': 'donald'}  \n",
    "r = requests.get('http://httpbin.org/get', params=credentials)\n",
    "\n",
    "print(r.url)  \n",
    "print(r.text)  \n",
    "```"
   ]
  },
  {
   "cell_type": "code",
   "execution_count": 11,
   "metadata": {},
   "outputs": [
    {
     "name": "stdout",
     "output_type": "stream",
     "text": [
      "http://httpbin.org/get?user_name=trump&password=donald\n",
      "{\n",
      "  \"args\": {\n",
      "    \"password\": \"donald\", \n",
      "    \"user_name\": \"trump\"\n",
      "  }, \n",
      "  \"headers\": {\n",
      "    \"Accept\": \"*/*\", \n",
      "    \"Accept-Encoding\": \"gzip, deflate\", \n",
      "    \"Connection\": \"close\", \n",
      "    \"Host\": \"httpbin.org\", \n",
      "    \"User-Agent\": \"python-requests/2.19.1\"\n",
      "  }, \n",
      "  \"origin\": \"165.227.31.208\", \n",
      "  \"url\": \"http://httpbin.org/get?user_name=trump&password=donald\"\n",
      "}\n",
      "\n"
     ]
    }
   ],
   "source": [
    "# Code here \n",
    "credentials = {'user_name': 'trump', 'password': 'donald'}  \n",
    "r = requests.get('http://httpbin.org/get', params=credentials)\n",
    "\n",
    "print(r.url)  \n",
    "print(r.text)"
   ]
  },
  {
   "cell_type": "markdown",
   "metadata": {},
   "source": [
    "## HTTP POST method \n",
    "\n",
    "Sometimes we need to send one or more files simultaneously to the server. For example, if a user is submitting a form and the form includes different fields for uploading files, like user profile picture, user resume, etc. Requests can handle multiple files on a single request. This can be achieved by putting the files to a list of tuples in the form (`field_name, file_info)`.\n",
    "\n",
    "\n",
    "```python\n",
    "import requests\n",
    "\n",
    "url = 'http://httpbin.org/post'  \n",
    "file_list = [  \n",
    "    ('image', ('fi.png', open('fi.png', 'rb'), 'image/png')),\n",
    "    ('image', ('fi2.jpeg', open('fi2.jpeg', 'rb'), 'image/png'))\n",
    "]\n",
    "\n",
    "r = requests.post(url, files=file_list)  \n",
    "print(r.text)  \n",
    "```"
   ]
  },
  {
   "cell_type": "code",
   "execution_count": 12,
   "metadata": {},
   "outputs": [
    {
     "name": "stdout",
     "output_type": "stream",
     "text": [
      "{\n",
      "  \"args\": {}, \n",
      "  \"data\": \"\", \n",
      "  \"files\": {\n",
      "    \"image\": \"data:image/png;base64,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\"\n",
      "  }, \n",
      "  \"form\": {}, \n",
      "  \"headers\": {\n",
      "    \"Accept\": \"*/*\", \n",
      "    \"Accept-Encoding\": \"gzip, deflate\", \n",
      "    \"Connection\": \"close\", \n",
      "    \"Content-Length\": \"40790\", \n",
      "    \"Content-Type\": \"multipart/form-data; boundary=a7750146d7e5232c6c8a7cd6dfb61fb5\", \n",
      "    \"Host\": \"httpbin.org\", \n",
      "    \"User-Agent\": \"python-requests/2.19.1\"\n",
      "  }, \n",
      "  \"json\": null, \n",
      "  \"origin\": \"165.227.31.208\", \n",
      "  \"url\": \"http://httpbin.org/post\"\n",
      "}\n",
      "\n"
     ]
    }
   ],
   "source": [
    "# Code here  \n",
    "url = 'http://httpbin.org/post'  \n",
    "file_list = [  \n",
    "    ('image', ('fi.png', open('fi.png', 'rb'), 'image/png')),\n",
    "    ('image', ('fi2.jpeg', open('fi2.jpeg', 'rb'), 'image/png'))\n",
    "]\n",
    "\n",
    "r = requests.post(url, files=file_list)  \n",
    "print(r.text)"
   ]
  },
  {
   "cell_type": "markdown",
   "metadata": {},
   "source": [
    "So this is a brief introduction to how you would send requests and get responses from a web server, while totally avoiding the web browser interface. Later we shall see how we can pick up the required data elements from the contents of the web page for analytical purpose. \n"
   ]
  },
  {
   "cell_type": "markdown",
   "metadata": {},
   "source": [
    "## Summary\n",
    "In this lesson, we provided an introduction to the `requests` library in python. We saw how to use the get method to send requests to web servers, check server status, look at the header elements of a web page and how to send extra parameters like user information. In the next lab, we shall look at  **POST** and the **GET** methods in action. "
   ]
  }
 ],
 "metadata": {
  "kernelspec": {
   "display_name": "Python 3",
   "language": "python",
   "name": "python3"
  },
  "language_info": {
   "codemirror_mode": {
    "name": "ipython",
    "version": 3
   },
   "file_extension": ".py",
   "mimetype": "text/x-python",
   "name": "python",
   "nbconvert_exporter": "python",
   "pygments_lexer": "ipython3",
   "version": "3.6.6"
  }
 },
 "nbformat": 4,
 "nbformat_minor": 2
}
